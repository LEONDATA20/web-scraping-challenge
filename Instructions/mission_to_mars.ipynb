{
 "cells": [
  {
   "cell_type": "code",
   "execution_count": 1,
   "metadata": {},
   "outputs": [],
   "source": [
    "from bs4 import BeautifulSoup\n",
    "import requests\n",
    "from splinter import Browser\n",
    "import pandas as pd"
   ]
  },
  {
   "cell_type": "code",
   "execution_count": 2,
   "metadata": {},
   "outputs": [
    {
     "name": "stdout",
     "output_type": "stream",
     "text": [
      "/usr/local/bin/chromedriver\r\n"
     ]
    }
   ],
   "source": [
    "# https://splinter.readthedocs.io/en/latest/drivers/chrome.html\n",
    "!which chromedriver"
   ]
  },
  {
   "cell_type": "code",
   "execution_count": 3,
   "metadata": {},
   "outputs": [],
   "source": [
    "executable_path = {'executable_path': '/usr/local/bin/chromedriver'}\n",
    "browser = Browser('chrome', **executable_path, headless=False)"
   ]
  },
  {
   "cell_type": "code",
   "execution_count": 4,
   "metadata": {},
   "outputs": [],
   "source": [
    "\n",
    "url_news='https://mars.nasa.gov/news/?page=0&per_page=40&order=publish_date+desc%2Ccreated_at+desc&search=&category=19%2C165%2C184%2C204&blank_scope=Latest'\n"
   ]
  },
  {
   "cell_type": "code",
   "execution_count": 5,
   "metadata": {},
   "outputs": [],
   "source": [
    "browser.visit(url_news)"
   ]
  },
  {
   "cell_type": "code",
   "execution_count": 6,
   "metadata": {},
   "outputs": [],
   "source": [
    "import time"
   ]
  },
  {
   "cell_type": "code",
   "execution_count": 9,
   "metadata": {
    "scrolled": true
   },
   "outputs": [
    {
     "name": "stdout",
     "output_type": "stream",
     "text": [
      "page:0-----------\n",
      "news_title: NASA's Perseverance Rover Mission Getting in Shape for Launch\n",
      "news_p:Stacking spacecraft components on top of each other is one of the final assembly steps before a mission launches to the Red Planet. \n",
      "page:0-----------\n",
      "news_title: NASA Perseverance Mars Rover Scientists Train in the Nevada Desert\n",
      "news_p:Team members searched for signs of ancient microscopic life there, just as NASA's latest rover will on the Red Planet next year.\n",
      "page:0-----------\n",
      "news_title: NASA's Perseverance Rover Will Look at Mars Through These 'Eyes'\n",
      "news_p:A pair of zoomable cameras will help scientists and rover drivers with high-resolution color images.\n",
      "page:0-----------\n",
      "news_title: Meet the People Behind NASA's Perseverance Rover\n",
      "news_p:These are the scientists and engineers who built NASA's next Mars rover and who will guide it to a safe landing in Jezero Crater. \n",
      "page:0-----------\n",
      "news_title: Q&A with the Student Who Named Ingenuity, NASA's Mars Helicopter\n",
      "news_p:As a longtime fan of space exploration, Vaneeza Rupani appreciates the creativity and collaboration involved with trying to fly on another planet.\n",
      "page:0-----------\n",
      "news_title: Alabama High School Student Names NASA's Mars Helicopter\n",
      "news_p:Vaneeza Rupani's essay was chosen as the name for the small spacecraft, which will mark NASA's first attempt at powered flight on another planet.\n",
      "page:0-----------\n",
      "news_title: How NASA's Perseverance Mars Team Adjusted to Work in the Time of Coronavirus \n",
      "news_p:Like much of the rest of the world, the Mars rover team is pushing forward with its mission-critical work while putting the health and safety of their colleagues and community first.\n",
      "page:0-----------\n",
      "news_title: NASA's Perseverance Mars Rover Gets Balanced\n",
      "news_p:The mission team performed a crucial weight-balancing test on the rover in preparation for this summer's history-making launch to the Red Planet.\n",
      "page:0-----------\n",
      "news_title: NASA's Curiosity Keeps Rolling As Team Operates Rover From Home\n",
      "news_p:The team has learned to meet new challenges as they work remotely on the Mars mission.\n",
      "page:0-----------\n",
      "news_title: Mars Helicopter Attached to NASA's Perseverance Rover\n",
      "news_p:The team also fueled the rover's sky crane to get ready for this summer's history-making launch.\n",
      "page:0-----------\n",
      "news_title: NASA's Perseverance Mars Rover Gets Its Wheels and Air Brakes\n",
      "news_p:After the rover was shipped from JPL to Kennedy Space Center, the team is getting closer to finalizing the spacecraft for launch later this summer.\n",
      "page:0-----------\n",
      "news_title: The Man Who Wanted to Fly on Mars\n",
      "news_p:The Mars Helicopter is riding to the Red Planet this summer with NASA's Perseverance rover. The helicopter's chief engineer, Bob Balaram, shares the saga of how it came into being.\n",
      "page:0-----------\n",
      "news_title: 10.9 Million Names Now Aboard NASA's Perseverance Mars Rover\n",
      "news_p:As part of NASA's 'Send Your Name to Mars' campaign, they've been stenciled onto three microchips along with essays from NASA's 'Name the Rover' contest. Next stop: Mars.\n",
      "page:0-----------\n",
      "news_title: NASA's Curiosity Mars Rover Takes a New Selfie Before Record Climb\n",
      "news_p:Along with capturing an image before its steepest ascent ever, the robotic explorer filmed its \"selfie stick,\" or robotic arm, in action.\n",
      "page:0-----------\n",
      "news_title: NASA's Mars Perseverance Rover Gets Its Sample Handling System\n",
      "news_p:The system will be collecting and storing Martian rock and soil. Its installation marks another milestone in the march toward the July launch period.\n",
      "page:0-----------\n",
      "news_title: Virginia Middle School Student Earns Honor of Naming NASA's Next Mars Rover\n",
      "news_p:NASA chose a seventh-grader from Virginia as winner of the agency's \"Name the Rover\" essay contest. Alexander Mather's entry for \"Perseverance\" was voted tops among 28,000 entries. \n",
      "page:0-----------\n",
      "news_title: NASA's Curiosity Mars Rover Snaps Its Highest-Resolution Panorama Yet\n",
      "news_p:To go along with the stunning 1.8-billion-pixel image, a new video offers a sweeping view of the Red Planet.\n",
      "page:0-----------\n",
      "news_title: NASA to Reveal Name of Its Next Mars Rover\n",
      "news_p:After a months-long contest among students to name NASA's newest Mars rover, the agency will reveal the winning name — and the winning student — this Thursday. \n",
      "page:0-----------\n",
      "news_title: The MarCO Mission Comes to an End\n",
      "news_p:The pair of briefcase-sized satellites made history when they sailed past Mars in 2019.\n",
      "page:0-----------\n",
      "news_title: A Year of Surprising Science From NASA's InSight Mars Mission\n",
      "news_p:A batch of new papers summarizes the lander's findings above and below the surface of the Red Planet.\n",
      "page:0-----------\n",
      "news_title: Mars InSight Lander to Push on Top of the 'Mole'\n",
      "news_p:Engineers have a plan for pushing down on the heat probe, which has been stuck at the Martian surface for a year.\n",
      "page:0-----------\n",
      "news_title: Common Questions about InSight's 'Mole'\n",
      "news_p:The following Q&As with members of the team answer some of the most common questions about the burrowing device, part of a science instrument called the Heat Flow and Physical Properties Package (HP3).\n",
      "page:0-----------\n",
      "news_title: NASA Adds Return Sample Scientists to Mars 2020 Leadership Team\n",
      "news_p:The leadership council for Mars 2020 science added two new members who represent the interests of scientists destined to handle and study the first samples from Red Planet.\n",
      "page:0-----------\n",
      "news_title: NASA's Mars Reconnaissance Orbiter Undergoes Memory Update\n",
      "news_p:Other orbiters will continue relaying data from Mars surface missions for a two-week period.\n",
      "page:0-----------\n",
      "news_title: NASA's Mars 2020 Rover Goes Coast-to-Coast to Prep for Launch\n",
      "news_p:The agency's first step in returning rocks from Mars just arrived at Kennedy Space Center. The Mars 2020 team now begins readying for a launch to the Red Planet this July.\n",
      "page:0-----------\n",
      "news_title: NASA Prepares for Moon and Mars With New Addition to Its Deep Space Network\n",
      "news_p:Robotic spacecraft will be able to communicate with the dish using radio waves and lasers.\n",
      "page:0-----------\n",
      "news_title: NASA Administrator Statement on Moon to Mars Initiative, FY 2021 Budget\n",
      "news_p:Jim Bridenstine addresses NASA's ambitious plans for the coming years, including Mars Sample Return.\n",
      "page:0-----------\n",
      "news_title: All About the Laser (and Microphone) Atop Mars 2020, NASA's Next Rover\n",
      "news_p:SuperCam is a rock-vaporizing instrument that will help scientists hunt for Mars fossils.\n",
      "page:0-----------\n",
      "news_title: NASA's MAVEN Explores Mars to Understand Radio Interference at Earth\n",
      "news_p:NASA’s MAVEN spacecraft has discovered “layers” and “rifts” in the electrically charged part of the upper atmosphere of Mars.\n",
      "page:0-----------\n",
      "news_title: Nine Finalists Chosen in NASA's Mars 2020 Rover Naming Contest\n",
      "news_p:Nine finalists have been chosen in the essay contest for K-12 students across U.S. to name NASA's next Mars rover. Now you can help by voting for your favorite. \n",
      "page:0-----------\n",
      "news_title: NASA's Mars 2020 Rover Closer to Getting Its Name\n",
      "news_p:155 students from across the U.S. have been chosen as semifinalists in NASA's essay contest to name the Mars 2020 rover, and see it launch from Cape Canaveral this July.\n",
      "page:0-----------\n",
      "news_title: Media Get a Close-Up of NASA's Mars 2020 Rover\n",
      "news_p:The clean room at NASA's Jet Propulsion Laboratory was open to the media to see NASA's next Mars explorer before it leaves for Florida in preparation for a summertime launch.\n",
      "page:0-----------\n",
      "news_title: Space History Is Made in This NASA Robot Factory\n",
      "news_p:From rockets to rovers, JPL's Spacecraft Assembly Facility has been at the center of robotic spaceflight. Here's a closer look at what makes it so special.\n",
      "page:0-----------\n",
      "news_title: NASA's Mars 2020 Rover Completes Its First Drive\n",
      "news_p:In a 10-plus-hour marathon, the rover steered, turned and drove in 3-foot (1-meter) increments over small ramps.\n",
      "page:0-----------\n",
      "news_title: NASA's MAVEN Maps Winds in the Martian Upper Atmosphere that Mirror the Terrain Below and Gives Clues to Martian Climate\n",
      "news_p:Researchers have created the first map of wind circulation in the upper atmosphere of a planet besides Earth, using data from NASA’s MAVEN spacecraft that were collected during the last two years.\n",
      "page:0-----------\n",
      "news_title: Newfound Martian Aurora Actually the Most Common; Sheds Light on Mars' Changing Climate\n",
      "news_p:A type of Martian aurora first identified by NASA’s MAVEN spacecraft in 2016 is actually the most common form of aurora occurring on the Red Planet, according to new results from the mission.\n",
      "page:0-----------\n",
      "news_title: NASA's Treasure Map for Water Ice on Mars\n",
      "news_p:A new study identifies frozen water just below the Martian surface, where astronauts could easily dig it up.\n",
      "page:0-----------\n",
      "news_title: Two Rovers to Roll on Mars Again: Curiosity and Mars 2020\n",
      "news_p:They look like twins. But under the hood, the rover currently exploring the Red Planet and the one launching there this summer have distinct science tools and roles to play.\n",
      "page:0-----------\n",
      "news_title: NASA's Briefcase-Size MarCO Satellite Picks Up Honors\n",
      "news_p:The twin spacecraft, the first of their kind to fly into deep space, earn a Laureate from Aviation Week & Space Technology.\n",
      "page:0-----------\n",
      "news_title: Global Storms on Mars Launch Dust Towers Into the Sky\n",
      "news_p:A Mars Dust Tower Stands Out Dust storms are common on Mars. But every decade or so, something unpredictable happens: a series of runaway storms break out, covering the entire planet in a dusty haze.\n"
     ]
    },
    {
     "name": "stderr",
     "output_type": "stream",
     "text": [
      "/Users/hangli/opt/anaconda3/envs/PythonData/lib/python3.6/site-packages/splinter/driver/webdriver/__init__.py:536: FutureWarning: browser.find_link_by_text is deprecated. Use browser.links.find_by_text instead.\n",
      "  FutureWarning,\n"
     ]
    },
    {
     "name": "stdout",
     "output_type": "stream",
     "text": [
      "page:2-----------\n",
      "news_title: NASA Updates Mars 2020 Mission Environmental Review\n",
      "news_p:NASA and the Department of Energy have completed a more detailed risk analysis for the Mars 2020 rover launch from Florida.\n",
      "page:2-----------\n",
      "news_title: Two of a Space Kind: Apollo 12 and Mars 2020\n",
      "news_p:Apollo 12 and the upcoming Mars 2020 mission may be separated by half a century, but they share several goals unique in the annals of space exploration.\n",
      "page:2-----------\n",
      "news_title: Mars Scientists Investigate Ancient Life in Australia\n",
      "news_p:Teams with NASA's Mars 2020 and ESA's ExoMars practiced hunting for fossilized microbial life in the Australian Outback in preparation for their Red Planet missions. \n",
      "page:2-----------\n",
      "news_title: NASA's Mars 2020 Will Hunt for Microscopic Fossils\n",
      "news_p:A new paper identifies a ring of minerals at the rover's landing site that are ideal for fossilizing microbial life.\n",
      "page:2-----------\n",
      "news_title: With Mars Methane Mystery Unsolved, Curiosity Serves Scientists a New One: Oxygen\n",
      "news_p:For the first time in the history of space exploration, scientists have measured the seasonal changes in the gases that fill the air directly above the surface of Gale Crater on Mars. \n",
      "page:2-----------\n",
      "news_title: NASA's Mars 2020 Heads Into the Test Chamber\n",
      "news_p:In this time-lapse video taken at JPL, engineers move the Mars 2020 rover into a large vacuum chamber for testing in Mars-like environmental conditions.\n",
      "page:2-----------\n",
      "news_title: Screening Soon: 'The Pathfinders' Trains Lens on Mars\n",
      "news_p:With the Mars 2020 mission ramping up, the documentary — the first of four about past JPL missions to the Red Planet to be shown at Caltech — tells a gripping backstory.\n",
      "page:2-----------\n",
      "news_title: InSight's 'Mole' Team Peers into the Pit\n",
      "news_p:Efforts to save the heat probe continue.\n",
      "page:2-----------\n",
      "news_title: Mars 2020 Stands on Its Own Six Wheels\n",
      "news_p:In time-lapse video, taken at JPL, captures the first time NASA's Mars 2020 rover carries its full weight on its legs and wheels.\n",
      "page:2-----------\n",
      "news_title: New Selfie Shows Curiosity, the Mars Chemist\n",
      "news_p:The NASA rover performed a special chemistry experiment at the location captured in its newest self-portrait.\n",
      "page:2-----------\n",
      "news_title: Naming a NASA Mars Rover Can Change Your Life\n",
      "news_p:Want to name the robotic scientist NASA is sending to Mars in 2020? The student who named Curiosity — the rover currently exploring Mars — will tell you this is an opportunity worth taking.\n",
      "page:2-----------\n",
      "news_title: Mars 2020 Unwrapped and Ready for More Testing\n",
      "news_p:In time-lapse video, bunny-suited engineers remove the inner layer of protective foil on NASA's Mars 2020 rover after it was relocated for testing.\n",
      "page:2-----------\n",
      "news_title: HiRISE Views NASA's InSight and Curiosity on Mars\n",
      "news_p:New images taken from space offer the clearest orbital glimpse yet of InSight as well as a view of Curiosity rolling along.\n",
      "page:2-----------\n",
      "news_title: NASA's Curiosity Rover Finds an Ancient Oasis on Mars\n",
      "news_p:New evidence suggests salty, shallow ponds once dotted a Martian crater — a sign of the planet's drying climate.\n",
      "page:2-----------\n",
      "news_title: NASA's Mars 2020 Rover Tests Descent-Stage Separation\n",
      "news_p:A crane lifts the rocket-powered descent stage away from NASA's Mars 2020 rover after technicians tested the pyrotechnic charges that separate the two spacecraft.\n",
      "page:2-----------\n",
      "news_title: NASA's Push to Save the Mars InSight Lander's Heat Probe\n",
      "news_p:The scoop on the end of the spacecraft's robotic arm will be used to 'pin' the mole against the wall of its hole.\n",
      "page:2-----------\n",
      "news_title: NASA's InSight 'Hears' Peculiar Sounds on Mars\n",
      "news_p:Listen to the marsquakes and other, less-expected sounds that the Mars lander has been detecting.\n",
      "page:2-----------\n",
      "news_title: NASA Mars Mission Connects With Bosnian and Herzegovinian Town\n",
      "news_p:A letter from NASA was presented to the mayor of Jezero, Bosnia-Herzegovina, honoring the connection between the town and Jezero Crater, the Mars 2020 rover landing site.\n",
      "page:2-----------\n",
      "news_title: Deadline Closing for Names to Fly on NASA's Next Mars Rover\n",
      "news_p:You have until Sept. 30 to send your names to Mars aboard the Mars 2020 rover. \n",
      "page:2-----------\n",
      "news_title: NASA Wins Two Emmy Awards for Interactive Mission Coverage\n",
      "news_p:NASA-JPL's coverage of the Mars InSight landing earns one of the two wins, making this the NASA center's second Emmy.\n",
      "page:2-----------\n",
      "news_title: NASA's Mars 2020 Comes Full Circle\n",
      "news_p:Aiming to pinpoint the Martian vehicle's center of gravity, engineers took NASA's 2,300-pound Mars 2020 rover for a spin in the clean room at JPL. \n",
      "page:2-----------\n",
      "news_title: NASA Invites Students to Name Mars 2020 Rover\n",
      "news_p:Through Nov. 1, K-12 students in the U.S. are encouraged to enter an essay contest to name NASA's next Mars rover.\n",
      "page:2-----------\n",
      "news_title: NASA's Mars Helicopter Attached to Mars 2020 Rover \n",
      "news_p:The helicopter will be first aircraft to perform flight tests on another planet.\n",
      "page:2-----------\n",
      "news_title: What's Mars Solar Conjunction, and Why Does It Matter?\n",
      "news_p:NASA spacecraft at Mars are going to be on their own for a few weeks when the Sun comes between Mars and Earth, interrupting communications.\n",
      "page:2-----------\n",
      "news_title: Scientists Explore Outback as Testbed for Mars \n",
      "news_p:Australia provides a great place for NASA's Mars 2020 and the ESA-Roscosmos ExoMars scientists to hone techniques in preparation for searching for signs ancient life on Mars.\n",
      "page:2-----------\n",
      "news_title: NASA-JPL Names 'Rolling Stones Rock' on Mars\n",
      "news_p:NASA's Mars InSight mission honored one of the biggest bands of all time at Pasadena concert.\n",
      "page:2-----------\n",
      "news_title: Robotic Toolkit Added to NASA's Mars 2020 Rover\n",
      "news_p:The bit carousel, which lies at the heart of the rover's Sample Caching System, is now aboard NASA's newest rover. \n",
      "page:2-----------\n",
      "news_title: Space Samples Link NASA's Apollo 11 and Mars 2020\n",
      "news_p:While separated by half a century, NASA's Apollo 11 and Mars 2020 missions share the same historic goal: returning samples to Earth.\n",
      "page:2-----------\n",
      "news_title: Small Satellite Mission of the Year\n",
      "news_p:The first interplanetary CubeSats were recognized by the engineering community with the 2019 Small Satellite Mission of the Year award.\n",
      "page:2-----------\n",
      "news_title: NASA 'Optometrists' Verify Mars 2020 Rover's 20/20 Vision\n",
      "news_p:Mars 2020 rover underwent an eye exam after several cameras were installed on the rover.\n",
      "page:2-----------\n",
      "news_title: New Finds for Mars Rover, Seven Years After Landing\n",
      "news_p:NASA's Curiosity rover is discovering odd rocks halfway into a region called the \"clay-bearing unit.\"\n",
      "page:2-----------\n",
      "news_title: MEDLI2 Installation on Mars 2020 Aeroshell Begins\n",
      "news_p:Hardware installed onto NASA's Mars 2020 entry vehicle this week will help to increase the safety of future Mars landings.\n",
      "page:2-----------\n",
      "news_title: NASA's Mars 2020 Rover Does Biceps Curls \n",
      "news_p:In this time-lapse video, the robotic arm on NASA's Mars 2020 rover maneuvers its 88-pound (40-kilogram) sensor-laden turret as it moves from a deployed to stowed configuration.\n",
      "page:2-----------\n",
      "news_title: Fueling of NASA's Mars 2020 Rover Power System Begins\n",
      "news_p:NASA gives the go-ahead to fuel the Mars 2020 rover's Multi-Mission Radioisotope Thermoelectric Generator, which will power rover and help keep it warm while exploring Mars.\n",
      "page:2-----------\n",
      "news_title: What Does a Marsquake Look Like?\n",
      "news_p:InSight scientists used a special \"shake room\" to demonstrate the differences between quakes on Earth, the Moon and Mars.\n",
      "page:2-----------\n",
      "news_title: Mars 2020 Rover: T-Minus One Year and Counting \n",
      "news_p:The launch period for NASA's next rover, Mars 2020, opens exactly one year from today, July 17, 2020, and extends through Aug. 5, 2020.\n",
      "page:2-----------\n",
      "news_title: NASA Racks Up Two Emmy Nominations for Mission Coverage\n",
      "news_p:JPL's coverage of the Mars InSight mission is among the efforts that will be up for an award in mid-September.\n",
      "page:2-----------\n",
      "news_title: Want to Colonize Mars? Aerogel Could Help\n",
      "news_p:Researchers are studying whether a wonder material used in Mars rovers could help warm parts of the Red Planet rich in water ice.\n",
      "page:2-----------\n",
      "news_title: A Rover Pit Stop at JPL\n",
      "news_p:Working like a finely honed machine, a team of engineers in this time-lapse video clip install test wheels on another finely honed machine: NASA's Mars 2020 rover.\n",
      "page:2-----------\n",
      "news_title: Mars 2020 Rover Gets a Super Instrument\n",
      "news_p:With its rock-zapping laser, the SuperCam will enable the science team to identify the chemical and mineral makeup of its targets on the Red Planet.\n"
     ]
    }
   ],
   "source": [
    "# Iterate through all pages\n",
    "\n",
    "t=[]\n",
    "c=[]\n",
    "for x in range(3):      \n",
    "# HTML object\n",
    "    html = browser.html\n",
    "# Parse HTML with Beautiful Soup\n",
    "    soup = BeautifulSoup(html, 'html.parser')\n",
    "# Retrieve all elements that contain book information\n",
    "    results = soup.find_all('div', class_='list_text')  \n",
    "\n",
    "# Iterate through each book\n",
    "    for result in results:\n",
    "        # Use Beautiful Soup's find() method to navigate and retrieve attributes\n",
    "        title = result.find('div',class_='content_title').text\n",
    "        if title not in t: \n",
    "            t.append(title) \n",
    "            content = result.find('div',class_='article_teaser_body').text\n",
    "            c.append(content)\n",
    "        #if title not in l: \n",
    "        #a.append(title)\n",
    "\n",
    "        #b.append(content)\n",
    "            print(f'page:{x}-----------')\n",
    "            print(f'news_title: {title}')\n",
    "            print(f'news_p:{content}')       \n",
    "\n",
    "        # Click the 'Next' button on each page\n",
    "    try:\n",
    "        time.sleep(2)\n",
    "        #browser.find_link_by_text('More').first.click() work\n",
    "        #browser.click_link_by_partial_text('More') does not work\n",
    "        browser.click_link_by_text('More')\n",
    "\n",
    "    except:\n",
    "        print(\"Scraping Complete\")\n",
    "\n",
    "browser.quit()\n",
    "    \n"
   ]
  },
  {
   "cell_type": "code",
   "execution_count": 10,
   "metadata": {},
   "outputs": [],
   "source": [
    "news_title=t[0]"
   ]
  },
  {
   "cell_type": "code",
   "execution_count": 11,
   "metadata": {},
   "outputs": [],
   "source": [
    "news_p=c[0]\n"
   ]
  },
  {
   "cell_type": "code",
   "execution_count": 12,
   "metadata": {},
   "outputs": [
    {
     "name": "stdout",
     "output_type": "stream",
     "text": [
      "news_title = NASA's Perseverance Rover Mission Getting in Shape for Launch\n",
      "news_p = Stacking spacecraft components on top of each other is one of the final assembly steps before a mission launches to the Red Planet. \n"
     ]
    }
   ],
   "source": [
    "print(f'news_title = {news_title}')\n",
    "print(f'news_p = {news_p}')"
   ]
  },
  {
   "cell_type": "code",
   "execution_count": 13,
   "metadata": {},
   "outputs": [
    {
     "data": {
      "text/plain": [
       "\"NASA's Perseverance Rover Mission Getting in Shape for Launch\""
      ]
     },
     "execution_count": 13,
     "metadata": {},
     "output_type": "execute_result"
    }
   ],
   "source": [
    "title = soup.find('div',class_='list_text').find('a').text\n",
    "\n",
    "title"
   ]
  },
  {
   "cell_type": "code",
   "execution_count": 14,
   "metadata": {},
   "outputs": [
    {
     "data": {
      "text/plain": [
       "'Stacking spacecraft components on top of each other is one of the final assembly steps before a mission launches to the Red Planet. '"
      ]
     },
     "execution_count": 14,
     "metadata": {},
     "output_type": "execute_result"
    }
   ],
   "source": [
    "content = soup.find('div',class_='article_teaser_body').text\n",
    "content"
   ]
  },
  {
   "cell_type": "code",
   "execution_count": null,
   "metadata": {},
   "outputs": [],
   "source": [
    "###JPL Mars Space Images - Featured Image"
   ]
  },
  {
   "cell_type": "code",
   "execution_count": 15,
   "metadata": {},
   "outputs": [],
   "source": [
    "executable_path = {\"executable_path\": \"/usr/local/bin/chromedriver\"}\n",
    "browser = Browser(\"chrome\", **executable_path, headless=False)"
   ]
  },
  {
   "cell_type": "code",
   "execution_count": 16,
   "metadata": {},
   "outputs": [],
   "source": [
    "url_img='https://www.jpl.nasa.gov/spaceimages/?search=&category=Mars'\n",
    "browser.visit(url_img) "
   ]
  },
  {
   "cell_type": "code",
   "execution_count": 17,
   "metadata": {},
   "outputs": [
    {
     "data": {
      "text/plain": [
       "'/spaceimages/images/wallpaper/PIA23904-640x350.jpg'"
      ]
     },
     "execution_count": 17,
     "metadata": {},
     "output_type": "execute_result"
    }
   ],
   "source": [
    "#find the first div.img which is the current img\n",
    "html = browser.html\n",
    "soup = BeautifulSoup(html, 'html.parser')\n",
    "img_url = soup.find('div',class_='img').find('img')['src']\n",
    "img_url\n"
   ]
  },
  {
   "cell_type": "code",
   "execution_count": 18,
   "metadata": {},
   "outputs": [],
   "source": [
    "browser.quit()\n"
   ]
  },
  {
   "cell_type": "code",
   "execution_count": 19,
   "metadata": {},
   "outputs": [
    {
     "data": {
      "text/plain": [
       "'https://www.jpl.nasa.gov/spaceimages/images/wallpaper/PIA23904-640x350.jpg'"
      ]
     },
     "execution_count": 19,
     "metadata": {},
     "output_type": "execute_result"
    }
   ],
   "source": [
    "#image url\n",
    "featured_image_url=f'https://www.jpl.nasa.gov{img_url}'\n",
    "featured_image_url\n"
   ]
  },
  {
   "cell_type": "code",
   "execution_count": 20,
   "metadata": {},
   "outputs": [],
   "source": [
    "###mars_weather---TWITTER"
   ]
  },
  {
   "cell_type": "code",
   "execution_count": 21,
   "metadata": {},
   "outputs": [],
   "source": [
    "executable_path = {\"executable_path\": \"/usr/local/bin/chromedriver\"}\n",
    "browser=Browser(\"chrome\", **executable_path, headless=False)"
   ]
  },
  {
   "cell_type": "code",
   "execution_count": 22,
   "metadata": {},
   "outputs": [],
   "source": [
    "url_weather='https://twitter.com/marswxreport?lang=en'\n",
    "#url_weather='https://twitter.com/marswxreport'\n",
    "browser.visit(url_weather) "
   ]
  },
  {
   "cell_type": "code",
   "execution_count": 23,
   "metadata": {},
   "outputs": [],
   "source": [
    "html = browser.html\n",
    "soup = BeautifulSoup(html, 'html.parser')"
   ]
  },
  {
   "cell_type": "code",
   "execution_count": 24,
   "metadata": {},
   "outputs": [
    {
     "data": {
      "text/plain": [
       "'InSight sol 516 (2020-05-09) low -93.2ºC (-135.7ºF) high 1.4ºC (34.5ºF)\\nwinds from the SW at 4.9 m/s (11.0 mph) gusting to 13.8 m/s (31.0 mph)\\npressure at 6.90 hPa'"
      ]
     },
     "execution_count": 24,
     "metadata": {},
     "output_type": "execute_result"
    }
   ],
   "source": [
    "mars_weather=soup.find('div',lang='en').find('span').text # class_='css-901oao css-16my406 r-1qd0xha r-ad9z0x r-bcqeeo r-qvutc0'\n",
    "mars_weather\n"
   ]
  },
  {
   "cell_type": "code",
   "execution_count": 25,
   "metadata": {},
   "outputs": [],
   "source": [
    "browser.quit()\n"
   ]
  },
  {
   "cell_type": "code",
   "execution_count": 26,
   "metadata": {},
   "outputs": [],
   "source": [
    "### Mars Facts---tables"
   ]
  },
  {
   "cell_type": "code",
   "execution_count": 42,
   "metadata": {},
   "outputs": [],
   "source": [
    "url_table='https://space-facts.com/mars/'\n",
    "tables = pd.read_html(url_table)\n",
    "tables\n",
    "browser.quit()\n"
   ]
  },
  {
   "cell_type": "code",
   "execution_count": 46,
   "metadata": {},
   "outputs": [
    {
     "data": {
      "text/html": [
       "<div>\n",
       "<style scoped>\n",
       "    .dataframe tbody tr th:only-of-type {\n",
       "        vertical-align: middle;\n",
       "    }\n",
       "\n",
       "    .dataframe tbody tr th {\n",
       "        vertical-align: top;\n",
       "    }\n",
       "\n",
       "    .dataframe thead th {\n",
       "        text-align: right;\n",
       "    }\n",
       "</style>\n",
       "<table border=\"1\" class=\"dataframe\">\n",
       "  <thead>\n",
       "    <tr style=\"text-align: right;\">\n",
       "      <th></th>\n",
       "      <th>0</th>\n",
       "      <th>1</th>\n",
       "    </tr>\n",
       "  </thead>\n",
       "  <tbody>\n",
       "    <tr>\n",
       "      <th>0</th>\n",
       "      <td>Equatorial Diameter:</td>\n",
       "      <td>6,792 km</td>\n",
       "    </tr>\n",
       "    <tr>\n",
       "      <th>1</th>\n",
       "      <td>Polar Diameter:</td>\n",
       "      <td>6,752 km</td>\n",
       "    </tr>\n",
       "    <tr>\n",
       "      <th>2</th>\n",
       "      <td>Mass:</td>\n",
       "      <td>6.39 × 10^23 kg (0.11 Earths)</td>\n",
       "    </tr>\n",
       "    <tr>\n",
       "      <th>3</th>\n",
       "      <td>Moons:</td>\n",
       "      <td>2 (Phobos &amp; Deimos)</td>\n",
       "    </tr>\n",
       "    <tr>\n",
       "      <th>4</th>\n",
       "      <td>Orbit Distance:</td>\n",
       "      <td>227,943,824 km (1.38 AU)</td>\n",
       "    </tr>\n",
       "    <tr>\n",
       "      <th>5</th>\n",
       "      <td>Orbit Period:</td>\n",
       "      <td>687 days (1.9 years)</td>\n",
       "    </tr>\n",
       "    <tr>\n",
       "      <th>6</th>\n",
       "      <td>Surface Temperature:</td>\n",
       "      <td>-87 to -5 °C</td>\n",
       "    </tr>\n",
       "    <tr>\n",
       "      <th>7</th>\n",
       "      <td>First Record:</td>\n",
       "      <td>2nd millennium BC</td>\n",
       "    </tr>\n",
       "    <tr>\n",
       "      <th>8</th>\n",
       "      <td>Recorded By:</td>\n",
       "      <td>Egyptian astronomers</td>\n",
       "    </tr>\n",
       "  </tbody>\n",
       "</table>\n",
       "</div>"
      ],
      "text/plain": [
       "                      0                              1\n",
       "0  Equatorial Diameter:                       6,792 km\n",
       "1       Polar Diameter:                       6,752 km\n",
       "2                 Mass:  6.39 × 10^23 kg (0.11 Earths)\n",
       "3                Moons:            2 (Phobos & Deimos)\n",
       "4       Orbit Distance:       227,943,824 km (1.38 AU)\n",
       "5         Orbit Period:           687 days (1.9 years)\n",
       "6  Surface Temperature:                   -87 to -5 °C\n",
       "7         First Record:              2nd millennium BC\n",
       "8          Recorded By:           Egyptian astronomers"
      ]
     },
     "execution_count": 46,
     "metadata": {},
     "output_type": "execute_result"
    }
   ],
   "source": [
    "df = tables[0]\n",
    "df"
   ]
  },
  {
   "cell_type": "code",
   "execution_count": 47,
   "metadata": {},
   "outputs": [
    {
     "data": {
      "text/html": [
       "<div>\n",
       "<style scoped>\n",
       "    .dataframe tbody tr th:only-of-type {\n",
       "        vertical-align: middle;\n",
       "    }\n",
       "\n",
       "    .dataframe tbody tr th {\n",
       "        vertical-align: top;\n",
       "    }\n",
       "\n",
       "    .dataframe thead th {\n",
       "        text-align: right;\n",
       "    }\n",
       "</style>\n",
       "<table border=\"1\" class=\"dataframe\">\n",
       "  <thead>\n",
       "    <tr style=\"text-align: right;\">\n",
       "      <th></th>\n",
       "      <th>parameter</th>\n",
       "      <th>value</th>\n",
       "    </tr>\n",
       "  </thead>\n",
       "  <tbody>\n",
       "    <tr>\n",
       "      <th>0</th>\n",
       "      <td>Equatorial Diameter:</td>\n",
       "      <td>6,792 km</td>\n",
       "    </tr>\n",
       "    <tr>\n",
       "      <th>1</th>\n",
       "      <td>Polar Diameter:</td>\n",
       "      <td>6,752 km</td>\n",
       "    </tr>\n",
       "    <tr>\n",
       "      <th>2</th>\n",
       "      <td>Mass:</td>\n",
       "      <td>6.39 × 10^23 kg (0.11 Earths)</td>\n",
       "    </tr>\n",
       "    <tr>\n",
       "      <th>3</th>\n",
       "      <td>Moons:</td>\n",
       "      <td>2 (Phobos &amp; Deimos)</td>\n",
       "    </tr>\n",
       "    <tr>\n",
       "      <th>4</th>\n",
       "      <td>Orbit Distance:</td>\n",
       "      <td>227,943,824 km (1.38 AU)</td>\n",
       "    </tr>\n",
       "    <tr>\n",
       "      <th>5</th>\n",
       "      <td>Orbit Period:</td>\n",
       "      <td>687 days (1.9 years)</td>\n",
       "    </tr>\n",
       "    <tr>\n",
       "      <th>6</th>\n",
       "      <td>Surface Temperature:</td>\n",
       "      <td>-87 to -5 °C</td>\n",
       "    </tr>\n",
       "    <tr>\n",
       "      <th>7</th>\n",
       "      <td>First Record:</td>\n",
       "      <td>2nd millennium BC</td>\n",
       "    </tr>\n",
       "    <tr>\n",
       "      <th>8</th>\n",
       "      <td>Recorded By:</td>\n",
       "      <td>Egyptian astronomers</td>\n",
       "    </tr>\n",
       "  </tbody>\n",
       "</table>\n",
       "</div>"
      ],
      "text/plain": [
       "              parameter                          value\n",
       "0  Equatorial Diameter:                       6,792 km\n",
       "1       Polar Diameter:                       6,752 km\n",
       "2                 Mass:  6.39 × 10^23 kg (0.11 Earths)\n",
       "3                Moons:            2 (Phobos & Deimos)\n",
       "4       Orbit Distance:       227,943,824 km (1.38 AU)\n",
       "5         Orbit Period:           687 days (1.9 years)\n",
       "6  Surface Temperature:                   -87 to -5 °C\n",
       "7         First Record:              2nd millennium BC\n",
       "8          Recorded By:           Egyptian astronomers"
      ]
     },
     "execution_count": 47,
     "metadata": {},
     "output_type": "execute_result"
    }
   ],
   "source": [
    "df.columns=['parameter','value']\n",
    "df"
   ]
  },
  {
   "cell_type": "code",
   "execution_count": 48,
   "metadata": {},
   "outputs": [
    {
     "data": {
      "text/plain": [
       "'<table border=\"1\" class=\"dataframe\">\\n  <thead>\\n    <tr style=\"text-align: right;\">\\n      <th></th>\\n      <th>parameter</th>\\n      <th>value</th>\\n    </tr>\\n  </thead>\\n  <tbody>\\n    <tr>\\n      <th>0</th>\\n      <td>Equatorial Diameter:</td>\\n      <td>6,792 km</td>\\n    </tr>\\n    <tr>\\n      <th>1</th>\\n      <td>Polar Diameter:</td>\\n      <td>6,752 km</td>\\n    </tr>\\n    <tr>\\n      <th>2</th>\\n      <td>Mass:</td>\\n      <td>6.39 × 10^23 kg (0.11 Earths)</td>\\n    </tr>\\n    <tr>\\n      <th>3</th>\\n      <td>Moons:</td>\\n      <td>2 (Phobos &amp; Deimos)</td>\\n    </tr>\\n    <tr>\\n      <th>4</th>\\n      <td>Orbit Distance:</td>\\n      <td>227,943,824 km (1.38 AU)</td>\\n    </tr>\\n    <tr>\\n      <th>5</th>\\n      <td>Orbit Period:</td>\\n      <td>687 days (1.9 years)</td>\\n    </tr>\\n    <tr>\\n      <th>6</th>\\n      <td>Surface Temperature:</td>\\n      <td>-87 to -5 °C</td>\\n    </tr>\\n    <tr>\\n      <th>7</th>\\n      <td>First Record:</td>\\n      <td>2nd millennium BC</td>\\n    </tr>\\n    <tr>\\n      <th>8</th>\\n      <td>Recorded By:</td>\\n      <td>Egyptian astronomers</td>\\n    </tr>\\n  </tbody>\\n</table>'"
      ]
     },
     "execution_count": 48,
     "metadata": {},
     "output_type": "execute_result"
    }
   ],
   "source": [
    "html_table = df.to_html()\n",
    "html_table"
   ]
  },
  {
   "cell_type": "code",
   "execution_count": null,
   "metadata": {},
   "outputs": [],
   "source": [
    "html_table.replace('\\n', '')"
   ]
  },
  {
   "cell_type": "code",
   "execution_count": null,
   "metadata": {},
   "outputs": [],
   "source": [
    "df.to_html('table.html')"
   ]
  },
  {
   "cell_type": "code",
   "execution_count": null,
   "metadata": {},
   "outputs": [],
   "source": [
    "!open table.html"
   ]
  },
  {
   "cell_type": "code",
   "execution_count": null,
   "metadata": {},
   "outputs": [],
   "source": [
    "#Mars Hemispheres"
   ]
  },
  {
   "cell_type": "code",
   "execution_count": 54,
   "metadata": {},
   "outputs": [],
   "source": [
    "executable_path = {\"executable_path\": \"/usr/local/bin/chromedriver\"}\n",
    "browser=Browser(\"chrome\", **executable_path, headless=False)"
   ]
  },
  {
   "cell_type": "code",
   "execution_count": 55,
   "metadata": {},
   "outputs": [],
   "source": [
    "url_mars='https://astrogeology.usgs.gov/search/results?q=hemisphere+enhanced&k1=target&v1=Mars'\n",
    "browser.visit(url_mars) "
   ]
  },
  {
   "cell_type": "code",
   "execution_count": 56,
   "metadata": {},
   "outputs": [
    {
     "data": {
      "text/plain": [
       "[<div class=\"description\"><a class=\"itemLink product-item\" href=\"/search/map/Mars/Viking/cerberus_enhanced\"><h3>Cerberus Hemisphere Enhanced</h3></a><span class=\"subtitle\" style=\"float:left\">image/tiff 21 MB</span><span class=\"pubDate\" style=\"float:right\"></span><br/><p>Mosaic of the Cerberus hemisphere of Mars projected into point perspective, a view similar to that which one would see from a spacecraft. This mosaic is composed of 104 Viking Orbiter images acquired…</p></div>,\n",
       " <div class=\"description\"><a class=\"itemLink product-item\" href=\"/search/map/Mars/Viking/schiaparelli_enhanced\"><h3>Schiaparelli Hemisphere Enhanced</h3></a><span class=\"subtitle\" style=\"float:left\">image/tiff 35 MB</span><span class=\"pubDate\" style=\"float:right\"></span><br/><p>Mosaic of the Schiaparelli hemisphere of Mars projected into point perspective, a view similar to that which one would see from a spacecraft. The images were acquired in 1980 during early northern…</p></div>,\n",
       " <div class=\"description\"><a class=\"itemLink product-item\" href=\"/search/map/Mars/Viking/syrtis_major_enhanced\"><h3>Syrtis Major Hemisphere Enhanced</h3></a><span class=\"subtitle\" style=\"float:left\">image/tiff 25 MB</span><span class=\"pubDate\" style=\"float:right\"></span><br/><p>Mosaic of the Syrtis Major hemisphere of Mars projected into point perspective, a view similar to that which one would see from a spacecraft. This mosaic is composed of about 100 red and violet…</p></div>,\n",
       " <div class=\"description\"><a class=\"itemLink product-item\" href=\"/search/map/Mars/Viking/valles_marineris_enhanced\"><h3>Valles Marineris Hemisphere Enhanced</h3></a><span class=\"subtitle\" style=\"float:left\">image/tiff 27 MB</span><span class=\"pubDate\" style=\"float:right\"></span><br/><p>Mosaic of the Valles Marineris hemisphere of Mars projected into point perspective, a view similar to that which one would see from a spacecraft. The distance is 2500 kilometers from the surface of…</p></div>]"
      ]
     },
     "execution_count": 56,
     "metadata": {},
     "output_type": "execute_result"
    }
   ],
   "source": [
    "html = browser.html\n",
    "soup = BeautifulSoup(html, 'html.parser')\n",
    "items=soup.find_all('div', class_='description')\n",
    "items"
   ]
  },
  {
   "cell_type": "code",
   "execution_count": 57,
   "metadata": {},
   "outputs": [],
   "source": [
    "titles_list=[]\n",
    "url_list = []\n",
    "hemisphere_image_urls=[]\n",
    "\n",
    "for item in items:\n",
    "    title=item.h3.text\n",
    "    titles_list.append(title)\n",
    "    url=item.find('a')['href']\n",
    "    url_list.append(url)\n",
    "    z={'title':title,'img_url':f'https://astrogeology.usgs.gov{url}'}\n",
    "    #z=dic(ztitle=title,img_url= url)\n",
    "    #dic=dict(zip(title, url))\n",
    "    hemisphere_image_urls.append(z) \n",
    "    "
   ]
  },
  {
   "cell_type": "raw",
   "metadata": {},
   "source": [
    "hemisphere_image_urls"
   ]
  },
  {
   "cell_type": "code",
   "execution_count": 59,
   "metadata": {},
   "outputs": [],
   "source": [
    "image_url=[]\n",
    "for x in hemisphere_image_urls:\n",
    "    browser.visit(x['img_url'])\n",
    "    html = browser.html\n",
    "    soup = BeautifulSoup(html, 'html.parser')\n",
    "    x=soup.find('ul').find('a')['href']\n",
    "    y={'title':title,'img_url':x}\n",
    "    image_url.append(y)\n"
   ]
  },
  {
   "cell_type": "code",
   "execution_count": 60,
   "metadata": {},
   "outputs": [],
   "source": [
    "browser.quit()"
   ]
  },
  {
   "cell_type": "code",
   "execution_count": 63,
   "metadata": {},
   "outputs": [
    {
     "data": {
      "text/plain": [
       "[{'title': 'Valles Marineris Hemisphere Enhanced',\n",
       "  'img_url': 'http://astropedia.astrogeology.usgs.gov/download/Mars/Viking/cerberus_enhanced.tif/full.jpg'},\n",
       " {'title': 'Valles Marineris Hemisphere Enhanced',\n",
       "  'img_url': 'http://astropedia.astrogeology.usgs.gov/download/Mars/Viking/schiaparelli_enhanced.tif/full.jpg'},\n",
       " {'title': 'Valles Marineris Hemisphere Enhanced',\n",
       "  'img_url': 'http://astropedia.astrogeology.usgs.gov/download/Mars/Viking/syrtis_major_enhanced.tif/full.jpg'},\n",
       " {'title': 'Valles Marineris Hemisphere Enhanced',\n",
       "  'img_url': 'http://astropedia.astrogeology.usgs.gov/download/Mars/Viking/valles_marineris_enhanced.tif/full.jpg'}]"
      ]
     },
     "execution_count": 63,
     "metadata": {},
     "output_type": "execute_result"
    }
   ],
   "source": [
    "image_url"
   ]
  },
  {
   "cell_type": "code",
   "execution_count": 10,
   "metadata": {},
   "outputs": [],
   "source": [
    "def scrape_info(url):\n",
    "    executable_path = {\"executable_path\": \"/usr/local/bin/chromedriver\"}\n",
    "    browser = Browser('chrome', **executable_path, headless=False)\n",
    "    browser.visit(url)\n",
    "    time.sleep(2)\n",
    "    html = browser.html\n",
    "    soup =  BeautifulSoup(html,\"html.parser\")\n",
    "    return soup\n",
    "    "
   ]
  },
  {
   "cell_type": "code",
   "execution_count": 28,
   "metadata": {},
   "outputs": [],
   "source": [
    "mars_data={}"
   ]
  },
  {
   "cell_type": "code",
   "execution_count": 11,
   "metadata": {},
   "outputs": [],
   "source": [
    "url_table='https://space-facts.com/mars/'\n",
    "table_soup = scrape_info(url_table)"
   ]
  },
  {
   "cell_type": "code",
   "execution_count": 50,
   "metadata": {},
   "outputs": [
    {
     "data": {
      "text/plain": [
       "'<tbody><tr class=\"row-1 odd\"><td class=\"column-1\"><strong>Equatorial Diameter:</strong></td><td class=\"column-2\">6,792 km<br/></td></tr><tr class=\"row-2 even\"><td class=\"column-1\"><strong>Polar Diameter:</strong></td><td class=\"column-2\">6,752 km<br/></td></tr><tr class=\"row-3 odd\"><td class=\"column-1\"><strong>Mass:</strong></td><td class=\"column-2\">6.39 × 10^23 kg<br/> (0.11 Earths)</td></tr><tr class=\"row-4 even\"><td class=\"column-1\"><strong>Moons:</strong></td><td class=\"column-2\">2 (<a href=\"https://space-facts.com/moons/phobos/\">Phobos</a> &amp; <a href=\"https://space-facts.com/moons/deimos/\">Deimos</a>)</td></tr><tr class=\"row-5 odd\"><td class=\"column-1\"><strong>Orbit Distance:</strong></td><td class=\"column-2\">227,943,824 km<br/> (1.38 AU)</td></tr><tr class=\"row-6 even\"><td class=\"column-1\"><strong>Orbit Period:</strong></td><td class=\"column-2\">687 days (1.9 years)<br/></td></tr><tr class=\"row-7 odd\"><td class=\"column-1\"><strong>Surface Temperature: </strong></td><td class=\"column-2\">-87 to -5 °C</td></tr><tr class=\"row-8 even\"><td class=\"column-1\"><strong>First Record:</strong></td><td class=\"column-2\">2nd millennium BC</td></tr><tr class=\"row-9 odd\"><td class=\"column-1\"><strong>Recorded By:</strong></td><td class=\"column-2\">Egyptian astronomers</td></tr></tbody>'"
      ]
     },
     "execution_count": 50,
     "metadata": {},
     "output_type": "execute_result"
    }
   ],
   "source": [
    "table= table_soup.find('tbody')\n",
    "str(table)"
   ]
  },
  {
   "cell_type": "code",
   "execution_count": 39,
   "metadata": {},
   "outputs": [
    {
     "data": {
      "text/plain": [
       "[<tr class=\"row-1 odd\"><td class=\"column-1\"><strong>Equatorial Diameter:</strong></td><td class=\"column-2\">6,792 km<br/></td></tr>,\n",
       " <td class=\"column-1\"><strong>Equatorial Diameter:</strong></td>,\n",
       " <strong>Equatorial Diameter:</strong>,\n",
       " <td class=\"column-2\">6,792 km<br/></td>,\n",
       " <br/>,\n",
       " <tr class=\"row-2 even\"><td class=\"column-1\"><strong>Polar Diameter:</strong></td><td class=\"column-2\">6,752 km<br/></td></tr>,\n",
       " <td class=\"column-1\"><strong>Polar Diameter:</strong></td>,\n",
       " <strong>Polar Diameter:</strong>,\n",
       " <td class=\"column-2\">6,752 km<br/></td>,\n",
       " <br/>,\n",
       " <tr class=\"row-3 odd\"><td class=\"column-1\"><strong>Mass:</strong></td><td class=\"column-2\">6.39 × 10^23 kg<br/> (0.11 Earths)</td></tr>,\n",
       " <td class=\"column-1\"><strong>Mass:</strong></td>,\n",
       " <strong>Mass:</strong>,\n",
       " <td class=\"column-2\">6.39 × 10^23 kg<br/> (0.11 Earths)</td>,\n",
       " <br/>,\n",
       " <tr class=\"row-4 even\"><td class=\"column-1\"><strong>Moons:</strong></td><td class=\"column-2\">2 (<a href=\"https://space-facts.com/moons/phobos/\">Phobos</a> &amp; <a href=\"https://space-facts.com/moons/deimos/\">Deimos</a>)</td></tr>,\n",
       " <td class=\"column-1\"><strong>Moons:</strong></td>,\n",
       " <strong>Moons:</strong>,\n",
       " <td class=\"column-2\">2 (<a href=\"https://space-facts.com/moons/phobos/\">Phobos</a> &amp; <a href=\"https://space-facts.com/moons/deimos/\">Deimos</a>)</td>,\n",
       " <a href=\"https://space-facts.com/moons/phobos/\">Phobos</a>,\n",
       " <a href=\"https://space-facts.com/moons/deimos/\">Deimos</a>,\n",
       " <tr class=\"row-5 odd\"><td class=\"column-1\"><strong>Orbit Distance:</strong></td><td class=\"column-2\">227,943,824 km<br/> (1.38 AU)</td></tr>,\n",
       " <td class=\"column-1\"><strong>Orbit Distance:</strong></td>,\n",
       " <strong>Orbit Distance:</strong>,\n",
       " <td class=\"column-2\">227,943,824 km<br/> (1.38 AU)</td>,\n",
       " <br/>,\n",
       " <tr class=\"row-6 even\"><td class=\"column-1\"><strong>Orbit Period:</strong></td><td class=\"column-2\">687 days (1.9 years)<br/></td></tr>,\n",
       " <td class=\"column-1\"><strong>Orbit Period:</strong></td>,\n",
       " <strong>Orbit Period:</strong>,\n",
       " <td class=\"column-2\">687 days (1.9 years)<br/></td>,\n",
       " <br/>,\n",
       " <tr class=\"row-7 odd\"><td class=\"column-1\"><strong>Surface Temperature: </strong></td><td class=\"column-2\">-87 to -5 °C</td></tr>,\n",
       " <td class=\"column-1\"><strong>Surface Temperature: </strong></td>,\n",
       " <strong>Surface Temperature: </strong>,\n",
       " <td class=\"column-2\">-87 to -5 °C</td>,\n",
       " <tr class=\"row-8 even\"><td class=\"column-1\"><strong>First Record:</strong></td><td class=\"column-2\">2nd millennium BC</td></tr>,\n",
       " <td class=\"column-1\"><strong>First Record:</strong></td>,\n",
       " <strong>First Record:</strong>,\n",
       " <td class=\"column-2\">2nd millennium BC</td>,\n",
       " <tr class=\"row-9 odd\"><td class=\"column-1\"><strong>Recorded By:</strong></td><td class=\"column-2\">Egyptian astronomers</td></tr>,\n",
       " <td class=\"column-1\"><strong>Recorded By:</strong></td>,\n",
       " <strong>Recorded By:</strong>,\n",
       " <td class=\"column-2\">Egyptian astronomers</td>]"
      ]
     },
     "execution_count": 39,
     "metadata": {},
     "output_type": "execute_result"
    }
   ],
   "source": [
    "table= table_soup.find('tbody').find_all()\n",
    "table"
   ]
  },
  {
   "cell_type": "code",
   "execution_count": null,
   "metadata": {},
   "outputs": [],
   "source": []
  },
  {
   "cell_type": "code",
   "execution_count": 29,
   "metadata": {},
   "outputs": [],
   "source": [
    "mars_data['mars_facts'] = table"
   ]
  },
  {
   "cell_type": "code",
   "execution_count": 30,
   "metadata": {},
   "outputs": [
    {
     "data": {
      "text/plain": [
       "{'mars_facts': <tbody><tr class=\"row-1 odd\"><td class=\"column-1\"><strong>Equatorial Diameter:</strong></td><td class=\"column-2\">6,792 km<br/></td></tr><tr class=\"row-2 even\"><td class=\"column-1\"><strong>Polar Diameter:</strong></td><td class=\"column-2\">6,752 km<br/></td></tr><tr class=\"row-3 odd\"><td class=\"column-1\"><strong>Mass:</strong></td><td class=\"column-2\">6.39 × 10^23 kg<br/> (0.11 Earths)</td></tr><tr class=\"row-4 even\"><td class=\"column-1\"><strong>Moons:</strong></td><td class=\"column-2\">2 (<a href=\"https://space-facts.com/moons/phobos/\">Phobos</a> &amp; <a href=\"https://space-facts.com/moons/deimos/\">Deimos</a>)</td></tr><tr class=\"row-5 odd\"><td class=\"column-1\"><strong>Orbit Distance:</strong></td><td class=\"column-2\">227,943,824 km<br/> (1.38 AU)</td></tr><tr class=\"row-6 even\"><td class=\"column-1\"><strong>Orbit Period:</strong></td><td class=\"column-2\">687 days (1.9 years)<br/></td></tr><tr class=\"row-7 odd\"><td class=\"column-1\"><strong>Surface Temperature: </strong></td><td class=\"column-2\">-87 to -5 °C</td></tr><tr class=\"row-8 even\"><td class=\"column-1\"><strong>First Record:</strong></td><td class=\"column-2\">2nd millennium BC</td></tr><tr class=\"row-9 odd\"><td class=\"column-1\"><strong>Recorded By:</strong></td><td class=\"column-2\">Egyptian astronomers</td></tr></tbody>}"
      ]
     },
     "execution_count": 30,
     "metadata": {},
     "output_type": "execute_result"
    }
   ],
   "source": [
    "mars_data"
   ]
  },
  {
   "cell_type": "code",
   "execution_count": 31,
   "metadata": {},
   "outputs": [
    {
     "ename": "AttributeError",
     "evalue": "'dict' object has no attribute 'mars_facts'",
     "output_type": "error",
     "traceback": [
      "\u001b[0;31m---------------------------------------------------------------------------\u001b[0m",
      "\u001b[0;31mAttributeError\u001b[0m                            Traceback (most recent call last)",
      "\u001b[0;32m<ipython-input-31-84ee87512eed>\u001b[0m in \u001b[0;36m<module>\u001b[0;34m\u001b[0m\n\u001b[0;32m----> 1\u001b[0;31m \u001b[0mmars_data\u001b[0m\u001b[0;34m.\u001b[0m\u001b[0mmars_facts\u001b[0m\u001b[0;34m\u001b[0m\u001b[0;34m\u001b[0m\u001b[0m\n\u001b[0m",
      "\u001b[0;31mAttributeError\u001b[0m: 'dict' object has no attribute 'mars_facts'"
     ]
    }
   ],
   "source": []
  },
  {
   "cell_type": "code",
   "execution_count": null,
   "metadata": {},
   "outputs": [],
   "source": []
  }
 ],
 "metadata": {
  "kernelspec": {
   "display_name": "Python 3.6.10 64-bit",
   "language": "python",
   "name": "python361064bitd3563137116e437588e12e79a042d81a"
  },
  "language_info": {
   "codemirror_mode": {
    "name": "ipython",
    "version": 3
   },
   "file_extension": ".py",
   "mimetype": "text/x-python",
   "name": "python",
   "nbconvert_exporter": "python",
   "pygments_lexer": "ipython3",
   "version": "3.6.10"
  }
 },
 "nbformat": 4,
 "nbformat_minor": 2
}
